{
  "nbformat": 4,
  "nbformat_minor": 0,
  "metadata": {
    "colab": {
      "provenance": [],
      "authorship_tag": "ABX9TyMm1pGEeTXuQOp0452/uje+",
      "include_colab_link": true
    },
    "kernelspec": {
      "name": "python3",
      "display_name": "Python 3"
    },
    "language_info": {
      "name": "python"
    }
  },
  "cells": [
    {
      "cell_type": "markdown",
      "metadata": {
        "id": "view-in-github",
        "colab_type": "text"
      },
      "source": [
        "<a href=\"https://colab.research.google.com/github/dabaNaima/AAtelier/blob/main/auto_encodeur%26VAE_MNIST.ipynb\" target=\"_parent\"><img src=\"https://colab.research.google.com/assets/colab-badge.svg\" alt=\"Open In Colab\"/></a>"
      ]
    },
    {
      "cell_type": "code",
      "execution_count": null,
      "metadata": {
        "id": "WtOJjUau7gqJ"
      },
      "outputs": [],
      "source": [
        "import torch\n",
        "import torch.nn as nn\n",
        "from torch.utils.data import DataLoader, TensorDataset\n",
        "import matplotlib.pyplot as plt\n",
        "import numpy as np"
      ]
    },
    {
      "cell_type": "code",
      "source": [
        "from google.colab import files\n",
        "\n",
        "# Upload the files (execute and follow the prompt)\n",
        "uploaded = files.upload()\n"
      ],
      "metadata": {
        "colab": {
          "base_uri": "https://localhost:8080/",
          "height": 177
        },
        "id": "HmqK_uN-7tP1",
        "outputId": "fcb85d28-c6ed-417b-be14-c61107a4e8fa"
      },
      "execution_count": null,
      "outputs": [
        {
          "output_type": "display_data",
          "data": {
            "text/plain": [
              "<IPython.core.display.HTML object>"
            ],
            "text/html": [
              "\n",
              "     <input type=\"file\" id=\"files-19bd925f-23ab-48b9-ab66-97ef3933c822\" name=\"files[]\" multiple disabled\n",
              "        style=\"border:none\" />\n",
              "     <output id=\"result-19bd925f-23ab-48b9-ab66-97ef3933c822\">\n",
              "      Upload widget is only available when the cell has been executed in the\n",
              "      current browser session. Please rerun this cell to enable.\n",
              "      </output>\n",
              "      <script>// Copyright 2017 Google LLC\n",
              "//\n",
              "// Licensed under the Apache License, Version 2.0 (the \"License\");\n",
              "// you may not use this file except in compliance with the License.\n",
              "// You may obtain a copy of the License at\n",
              "//\n",
              "//      http://www.apache.org/licenses/LICENSE-2.0\n",
              "//\n",
              "// Unless required by applicable law or agreed to in writing, software\n",
              "// distributed under the License is distributed on an \"AS IS\" BASIS,\n",
              "// WITHOUT WARRANTIES OR CONDITIONS OF ANY KIND, either express or implied.\n",
              "// See the License for the specific language governing permissions and\n",
              "// limitations under the License.\n",
              "\n",
              "/**\n",
              " * @fileoverview Helpers for google.colab Python module.\n",
              " */\n",
              "(function(scope) {\n",
              "function span(text, styleAttributes = {}) {\n",
              "  const element = document.createElement('span');\n",
              "  element.textContent = text;\n",
              "  for (const key of Object.keys(styleAttributes)) {\n",
              "    element.style[key] = styleAttributes[key];\n",
              "  }\n",
              "  return element;\n",
              "}\n",
              "\n",
              "// Max number of bytes which will be uploaded at a time.\n",
              "const MAX_PAYLOAD_SIZE = 100 * 1024;\n",
              "\n",
              "function _uploadFiles(inputId, outputId) {\n",
              "  const steps = uploadFilesStep(inputId, outputId);\n",
              "  const outputElement = document.getElementById(outputId);\n",
              "  // Cache steps on the outputElement to make it available for the next call\n",
              "  // to uploadFilesContinue from Python.\n",
              "  outputElement.steps = steps;\n",
              "\n",
              "  return _uploadFilesContinue(outputId);\n",
              "}\n",
              "\n",
              "// This is roughly an async generator (not supported in the browser yet),\n",
              "// where there are multiple asynchronous steps and the Python side is going\n",
              "// to poll for completion of each step.\n",
              "// This uses a Promise to block the python side on completion of each step,\n",
              "// then passes the result of the previous step as the input to the next step.\n",
              "function _uploadFilesContinue(outputId) {\n",
              "  const outputElement = document.getElementById(outputId);\n",
              "  const steps = outputElement.steps;\n",
              "\n",
              "  const next = steps.next(outputElement.lastPromiseValue);\n",
              "  return Promise.resolve(next.value.promise).then((value) => {\n",
              "    // Cache the last promise value to make it available to the next\n",
              "    // step of the generator.\n",
              "    outputElement.lastPromiseValue = value;\n",
              "    return next.value.response;\n",
              "  });\n",
              "}\n",
              "\n",
              "/**\n",
              " * Generator function which is called between each async step of the upload\n",
              " * process.\n",
              " * @param {string} inputId Element ID of the input file picker element.\n",
              " * @param {string} outputId Element ID of the output display.\n",
              " * @return {!Iterable<!Object>} Iterable of next steps.\n",
              " */\n",
              "function* uploadFilesStep(inputId, outputId) {\n",
              "  const inputElement = document.getElementById(inputId);\n",
              "  inputElement.disabled = false;\n",
              "\n",
              "  const outputElement = document.getElementById(outputId);\n",
              "  outputElement.innerHTML = '';\n",
              "\n",
              "  const pickedPromise = new Promise((resolve) => {\n",
              "    inputElement.addEventListener('change', (e) => {\n",
              "      resolve(e.target.files);\n",
              "    });\n",
              "  });\n",
              "\n",
              "  const cancel = document.createElement('button');\n",
              "  inputElement.parentElement.appendChild(cancel);\n",
              "  cancel.textContent = 'Cancel upload';\n",
              "  const cancelPromise = new Promise((resolve) => {\n",
              "    cancel.onclick = () => {\n",
              "      resolve(null);\n",
              "    };\n",
              "  });\n",
              "\n",
              "  // Wait for the user to pick the files.\n",
              "  const files = yield {\n",
              "    promise: Promise.race([pickedPromise, cancelPromise]),\n",
              "    response: {\n",
              "      action: 'starting',\n",
              "    }\n",
              "  };\n",
              "\n",
              "  cancel.remove();\n",
              "\n",
              "  // Disable the input element since further picks are not allowed.\n",
              "  inputElement.disabled = true;\n",
              "\n",
              "  if (!files) {\n",
              "    return {\n",
              "      response: {\n",
              "        action: 'complete',\n",
              "      }\n",
              "    };\n",
              "  }\n",
              "\n",
              "  for (const file of files) {\n",
              "    const li = document.createElement('li');\n",
              "    li.append(span(file.name, {fontWeight: 'bold'}));\n",
              "    li.append(span(\n",
              "        `(${file.type || 'n/a'}) - ${file.size} bytes, ` +\n",
              "        `last modified: ${\n",
              "            file.lastModifiedDate ? file.lastModifiedDate.toLocaleDateString() :\n",
              "                                    'n/a'} - `));\n",
              "    const percent = span('0% done');\n",
              "    li.appendChild(percent);\n",
              "\n",
              "    outputElement.appendChild(li);\n",
              "\n",
              "    const fileDataPromise = new Promise((resolve) => {\n",
              "      const reader = new FileReader();\n",
              "      reader.onload = (e) => {\n",
              "        resolve(e.target.result);\n",
              "      };\n",
              "      reader.readAsArrayBuffer(file);\n",
              "    });\n",
              "    // Wait for the data to be ready.\n",
              "    let fileData = yield {\n",
              "      promise: fileDataPromise,\n",
              "      response: {\n",
              "        action: 'continue',\n",
              "      }\n",
              "    };\n",
              "\n",
              "    // Use a chunked sending to avoid message size limits. See b/62115660.\n",
              "    let position = 0;\n",
              "    do {\n",
              "      const length = Math.min(fileData.byteLength - position, MAX_PAYLOAD_SIZE);\n",
              "      const chunk = new Uint8Array(fileData, position, length);\n",
              "      position += length;\n",
              "\n",
              "      const base64 = btoa(String.fromCharCode.apply(null, chunk));\n",
              "      yield {\n",
              "        response: {\n",
              "          action: 'append',\n",
              "          file: file.name,\n",
              "          data: base64,\n",
              "        },\n",
              "      };\n",
              "\n",
              "      let percentDone = fileData.byteLength === 0 ?\n",
              "          100 :\n",
              "          Math.round((position / fileData.byteLength) * 100);\n",
              "      percent.textContent = `${percentDone}% done`;\n",
              "\n",
              "    } while (position < fileData.byteLength);\n",
              "  }\n",
              "\n",
              "  // All done.\n",
              "  yield {\n",
              "    response: {\n",
              "      action: 'complete',\n",
              "    }\n",
              "  };\n",
              "}\n",
              "\n",
              "scope.google = scope.google || {};\n",
              "scope.google.colab = scope.google.colab || {};\n",
              "scope.google.colab._files = {\n",
              "  _uploadFiles,\n",
              "  _uploadFilesContinue,\n",
              "};\n",
              "})(self);\n",
              "</script> "
            ]
          },
          "metadata": {}
        },
        {
          "output_type": "stream",
          "name": "stdout",
          "text": [
            "Saving t10k-images.idx3-ubyte to t10k-images (1).idx3-ubyte\n",
            "Saving t10k-labels.idx1-ubyte to t10k-labels (1).idx1-ubyte\n",
            "Saving train-images.idx3-ubyte to train-images (1).idx3-ubyte\n",
            "Saving train-labels.idx1-ubyte to train-labels (1).idx1-ubyte\n"
          ]
        }
      ]
    },
    {
      "cell_type": "code",
      "source": [
        "# Function to load MNIST images and labels\n",
        "def load_mnist_images(filename):\n",
        "    with open(filename, 'rb') as f:\n",
        "        # Read the magic number, number of images, rows, and columns\n",
        "        magic, num_images, rows, cols = np.fromfile(f, dtype=np.dtype('>i4'), count=4)\n",
        "\n",
        "        # Read the image data\n",
        "        data = np.fromfile(f, dtype=np.uint8)\n",
        "\n",
        "    return data.reshape(num_images, rows, cols)\n",
        "\n",
        "def load_mnist_labels(filename):\n",
        "    with open(filename, 'rb') as f:\n",
        "        # Read the magic number and number of labels\n",
        "        magic, num_labels = np.fromfile(f, dtype=np.dtype('>i4'), count=2)\n",
        "\n",
        "        # Read the label data\n",
        "        data = np.fromfile(f, dtype=np.uint8)\n",
        "\n",
        "    return data\n",
        "\n",
        "# Load training set\n",
        "train_images = load_mnist_images('train-images.idx3-ubyte')\n",
        "train_labels = load_mnist_labels('train-labels.idx1-ubyte')\n",
        "\n",
        "# Load test set\n",
        "test_images = load_mnist_images('t10k-images.idx3-ubyte')\n",
        "test_labels = load_mnist_labels('t10k-labels.idx1-ubyte')\n",
        "\n",
        "# Convert data to PyTorch tensors\n",
        "train_images = torch.FloatTensor(train_images) / 255.0\n",
        "test_images = torch.FloatTensor(test_images) / 255.0\n",
        "\n",
        "# Flatten the images\n",
        "train_images = train_images.view(train_images.size(0), -1)\n",
        "test_images = test_images.view(test_images.size(0), -1)\n",
        "\n",
        "# Create DataLoader\n",
        "train_dataset = TensorDataset(train_images, train_images)\n",
        "train_loader = DataLoader(dataset=train_dataset, batch_size=64, shuffle=True)\n",
        "\n",
        "# Create DataLoader for the test set\n",
        "test_dataset = TensorDataset(test_images, test_images)\n",
        "test_loader = DataLoader(dataset=test_dataset, batch_size=64, shuffle=False)\n"
      ],
      "metadata": {
        "id": "idP-90SY7mov"
      },
      "execution_count": null,
      "outputs": []
    },
    {
      "cell_type": "code",
      "source": [],
      "metadata": {
        "id": "HSZC22Zzaf77"
      },
      "execution_count": null,
      "outputs": []
    },
    {
      "cell_type": "code",
      "source": [
        "import torch\n",
        "import torchvision\n",
        "from torchvision import transforms\n",
        "import matplotlib.pyplot as plt\n",
        "\n",
        "# Fonction pour charger les données MNIST\n",
        "def load_mnist_data(train=True):\n",
        "    transform = transforms.Compose([transforms.ToTensor()])\n",
        "    mnist_dataset = torchvision.datasets.MNIST(root='./data', train=train, download=True, transform=transform)\n",
        "    return torch.utils.data.DataLoader(dataset=mnist_dataset, batch_size=5, shuffle=True)\n",
        "\n",
        "# Charger l'ensemble d'entraînement\n",
        "train_loader = load_mnist_data(train=True)\n",
        "\n",
        "# Afficher quelques exemples d'images\n",
        "for images, labels in train_loader:\n",
        "    # Afficher les images\n",
        "    plt.figure(figsize=(10, 2))\n",
        "    for i in range(5):\n",
        "        plt.subplot(1, 5, i + 1)\n",
        "        plt.imshow(images[i][0], cmap='gray')\n",
        "        plt.title(f\"Label: {labels[i].item()}\")\n",
        "        plt.axis('off')\n",
        "\n",
        "    plt.show()\n",
        "    break  # Stop après le premier lot pour éviter une sortie trop longue\n"
      ],
      "metadata": {
        "colab": {
          "base_uri": "https://localhost:8080/",
          "height": 192
        },
        "id": "J49Jbgpp9htz",
        "outputId": "611c4181-ef0b-4968-f902-b8a1cef350d6"
      },
      "execution_count": null,
      "outputs": [
        {
          "output_type": "display_data",
          "data": {
            "text/plain": [
              "<Figure size 1000x200 with 5 Axes>"
            ],
            "image/png": "[encoded data removed]"
          },
          "metadata": {}
        }
      ]
    },
    {
      "cell_type": "code",
      "source": [],
      "metadata": {
        "id": "NZBlij2wJDmy"
      },
      "execution_count": null,
      "outputs": []
    },
    {
      "cell_type": "code",
      "source": [
        "# Convert data to PyTorch tensors\n",
        "train_images = torch.FloatTensor(train_images) / 255.0\n",
        "\n",
        "# Flatten the images\n",
        "train_images = train_images.view(train_images.size(0), -1)\n",
        "\n",
        "# Create DataLoader\n",
        "train_dataset = TensorDataset(train_images, train_images)\n",
        "train_loader = DataLoader(dataset=train_dataset, batch_size=64, shuffle=True)\n",
        "\n",
        "# Create DataLoader for test set\n",
        "test_dataset = TensorDataset(test_images, test_images)\n",
        "test_loader = DataLoader(dataset=test_dataset, batch_size=64, shuffle=False)\n",
        "\n",
        "\n"
      ],
      "metadata": {
        "id": "UDgMNPxq9vOr"
      },
      "execution_count": null,
      "outputs": []
    },
    {
      "cell_type": "code",
      "source": [
        "import torch\n",
        "import torch.nn as nn\n",
        "from torch.utils.data import DataLoader, TensorDataset\n",
        "import matplotlib.pyplot as plt\n",
        "import numpy as np\n",
        "from tqdm import tqdm\n",
        "from timeit import default_timer as timer\n",
        "\n",
        "# Define the AE class\n",
        "class AE(nn.Module):\n",
        "\n",
        "    def __init__(self):\n",
        "        super().__init__()\n",
        "\n",
        "        # Encoder\n",
        "        self.encoder_cnn = nn.Sequential(\n",
        "            nn.Conv2d(1, 8, 3, stride=2, padding=1),\n",
        "            nn.ReLU(True),\n",
        "            nn.Conv2d(8, 16, 3, stride=2, padding=1),\n",
        "            nn.BatchNorm2d(16),\n",
        "            nn.ReLU(True),\n",
        "            nn.Conv2d(16, 32, 3, stride=2, padding=0),\n",
        "            nn.ReLU(True),\n",
        "            nn.Flatten(start_dim=1),\n",
        "            nn.Linear(3 * 3 * 32, 128),\n",
        "            nn.ReLU(True),\n",
        "            nn.Linear(128, 2)\n",
        "        )\n",
        "\n",
        "        # Decoder\n",
        "        self.decoder_cnn = nn.Sequential(\n",
        "            nn.Linear(2, 128),\n",
        "            nn.ReLU(True),\n",
        "            nn.Linear(128, 3 * 3 * 32),\n",
        "            nn.ReLU(True),\n",
        "            nn.Unflatten(dim=1, unflattened_size=(32, 3, 3)),\n",
        "            nn.ConvTranspose2d(32, 16, 3, stride=2, output_padding=0),\n",
        "            nn.BatchNorm2d(16),\n",
        "            nn.ReLU(True),\n",
        "            nn.ConvTranspose2d(16, 8, 3, stride=2, padding=1, output_padding=1),\n",
        "            nn.BatchNorm2d(8),\n",
        "            nn.ReLU(True),\n",
        "            nn.ConvTranspose2d(8, 1, 3, stride=2, padding=1, output_padding=1)\n",
        "        )\n",
        "\n",
        "    def forward(self, x):\n",
        "        # Reshape input to [batch_size, 1, 28, 28]\n",
        "        x = x.view(-1, 1, 28, 28)\n",
        "\n",
        "        x = self.encoder_cnn(x)\n",
        "        x = self.decoder_cnn(x)\n",
        "        x = torch.sigmoid(x)\n",
        "        return x\n",
        "\n"
      ],
      "metadata": {
        "id": "IXD7pVvcJFdJ"
      },
      "execution_count": null,
      "outputs": []
    },
    {
      "cell_type": "code",
      "source": [
        "# Function for training the autoencoder\n",
        "def train_autoencoder(model: nn.Module, epochs: int = 30, learning_rate: float = 0.004, batch_size: int = 32, save_model: bool = True):\n",
        "    # Get training and validation set\n",
        "    train_loader, test_loader = get_data_loaders(batch_size)\n",
        "\n",
        "    # Setup loss function and optimizer\n",
        "    criterion = nn.MSELoss()\n",
        "    optimizer = torch.optim.SGD(model.parameters(), lr=learning_rate)\n",
        "    start_time = timer()\n",
        "\n",
        "    # Loop for a number of epochs\n",
        "    for epoch in tqdm(range(epochs)):\n",
        "        model.train()\n",
        "        train_loss = 0\n",
        "        validation_loss = 0\n",
        "\n",
        "        for features, _ in train_loader:\n",
        "            # Forward pass\n",
        "            decoded_image = model(features.view(features.size(0), -1))\n",
        "\n",
        "            # Evaluate loss\n",
        "            loss = criterion(decoded_image, features)\n",
        "            train_loss += loss.item()\n",
        "\n",
        "            optimizer.zero_grad()\n",
        "\n",
        "            # Backward pass\n",
        "            loss.backward()\n",
        "\n",
        "            # Update model weights\n",
        "            optimizer.step()\n",
        "\n",
        "        # Print epoch training loss\n",
        "        print(f'Epoch {epoch} : Training loss {train_loss / len(train_loader)}')\n",
        "        model.eval()\n",
        "\n",
        "        with torch.no_grad():\n",
        "            for features, _ in test_loader:\n",
        "                # Do the forward pass\n",
        "                decoded_image = model(features.view(features.size(0), -1))\n",
        "\n",
        "                loss = criterion(decoded_image, features)\n",
        "                validation_loss += loss.item()\n",
        "\n",
        "        print(f'Epoch {epoch} : Validation loss {validation_loss / len(test_loader)}')\n",
        "\n",
        "    end_time = timer()\n",
        "\n",
        "    print(f'Total training time: {end_time - start_time:.3f} seconds')\n",
        "\n",
        "    if save_model:\n",
        "        # Save the model\n",
        "        torch.save(model.state_dict(), 'autoencoder_model.pth')\n",
        "        print(f'Model saved!')\n",
        "\n",
        "# Function to load MNIST data and create data loaders\n",
        "def get_data_loaders(batch_size: int = 64):\n",
        "    transform = transforms.Compose([transforms.ToTensor()])\n",
        "    mnist_dataset = torchvision.datasets.MNIST(root='./data', train=True, download=True, transform=transform)\n",
        "\n",
        "    # Split the dataset into training and testing sets\n",
        "    train_size = int(0.8 * len(mnist_dataset))\n",
        "    test_size = len(mnist_dataset) - train_size\n",
        "    train_dataset, test_dataset = torch.utils.data.random_split(mnist_dataset, [train_size, test_size])\n",
        "\n",
        "    # Create data loaders\n",
        "    train_loader = torch.utils.data.DataLoader(dataset=train_dataset, batch_size=batch_size, shuffle=True)\n",
        "    test_loader = torch.utils.data.DataLoader(dataset=test_dataset, batch_size=batch_size, shuffle=False)\n",
        "\n",
        "    return train_loader, test_loader\n",
        "\n",
        "# Initialize the autoencoder and train\n",
        "autoencoder = AE()\n",
        "train_autoencoder(autoencoder, epochs=30, learning_rate=0.004, batch_size=64, save_model=True)\n"
      ],
      "metadata": {
        "colab": {
          "base_uri": "https://localhost:8080/"
        },
        "id": "KQPIVU6gU0VW",
        "outputId": "d8687472-12e6-49fe-f6dd-0e81bc569061"
      },
      "execution_count": null,
      "outputs": [
        {
          "output_type": "stream",
          "name": "stderr",
          "text": [
            "\r  0%|          | 0/30 [00:00<?, ?it/s]"
          ]
        },
        {
          "output_type": "stream",
          "name": "stdout",
          "text": [
            "Epoch 0 : Training loss 0.20863776073853174\n"
          ]
        },
        {
          "output_type": "stream",
          "name": "stderr",
          "text": [
            "\r  3%|▎         | 1/30 [00:22<10:38, 22.02s/it]"
          ]
        },
        {
          "output_type": "stream",
          "name": "stdout",
          "text": [
            "Epoch 0 : Validation loss 0.15822167639085588\n",
            "Epoch 1 : Training loss 0.13517820851008097\n"
          ]
        },
        {
          "output_type": "stream",
          "name": "stderr",
          "text": [
            "\r  7%|▋         | 2/30 [00:44<10:27, 22.41s/it]"
          ]
        },
        {
          "output_type": "stream",
          "name": "stdout",
          "text": [
            "Epoch 1 : Validation loss 0.11870801226889834\n",
            "Epoch 2 : Training loss 0.10947798942526181\n"
          ]
        },
        {
          "output_type": "stream",
          "name": "stderr",
          "text": [
            "\r 10%|█         | 3/30 [01:07<10:09, 22.58s/it]"
          ]
        },
        {
          "output_type": "stream",
          "name": "stdout",
          "text": [
            "Epoch 2 : Validation loss 0.10231933187931141\n",
            "Epoch 3 : Training loss 0.09753108870983124\n"
          ]
        },
        {
          "output_type": "stream",
          "name": "stderr",
          "text": [
            "\r 13%|█▎        | 4/30 [01:29<09:39, 22.29s/it]"
          ]
        },
        {
          "output_type": "stream",
          "name": "stdout",
          "text": [
            "Epoch 3 : Validation loss 0.0936602105961201\n",
            "Epoch 4 : Training loss 0.09083411650856336\n"
          ]
        },
        {
          "output_type": "stream",
          "name": "stderr",
          "text": [
            "\r 17%|█▋        | 5/30 [01:52<09:21, 22.47s/it]"
          ]
        },
        {
          "output_type": "stream",
          "name": "stdout",
          "text": [
            "Epoch 4 : Validation loss 0.08850989344113684\n",
            "Epoch 5 : Training loss 0.08668144899606704\n"
          ]
        },
        {
          "output_type": "stream",
          "name": "stderr",
          "text": [
            "\r 20%|██        | 6/30 [02:14<09:01, 22.55s/it]"
          ]
        },
        {
          "output_type": "stream",
          "name": "stdout",
          "text": [
            "Epoch 5 : Validation loss 0.08514126394181809\n",
            "Epoch 6 : Training loss 0.08384114272395769\n"
          ]
        },
        {
          "output_type": "stream",
          "name": "stderr",
          "text": [
            "\r 23%|██▎       | 7/30 [02:36<08:35, 22.42s/it]"
          ]
        },
        {
          "output_type": "stream",
          "name": "stdout",
          "text": [
            "Epoch 6 : Validation loss 0.08271226920980088\n",
            "Epoch 7 : Training loss 0.08169138953089713\n"
          ]
        },
        {
          "output_type": "stream",
          "name": "stderr",
          "text": [
            "\r 27%|██▋       | 8/30 [03:00<08:24, 22.92s/it]"
          ]
        },
        {
          "output_type": "stream",
          "name": "stdout",
          "text": [
            "Epoch 7 : Validation loss 0.08080885880329508\n",
            "Epoch 8 : Training loss 0.08000156128406524\n"
          ]
        },
        {
          "output_type": "stream",
          "name": "stderr",
          "text": [
            "\r 30%|███       | 9/30 [03:23<08:01, 22.93s/it]"
          ]
        },
        {
          "output_type": "stream",
          "name": "stdout",
          "text": [
            "Epoch 8 : Validation loss 0.07929165740596487\n",
            "Epoch 9 : Training loss 0.07862181668480238\n"
          ]
        },
        {
          "output_type": "stream",
          "name": "stderr",
          "text": [
            "\r 33%|███▎      | 10/30 [03:46<07:37, 22.88s/it]"
          ]
        },
        {
          "output_type": "stream",
          "name": "stdout",
          "text": [
            "Epoch 9 : Validation loss 0.07802902613865569\n",
            "Epoch 10 : Training loss 0.07746768732865651\n"
          ]
        },
        {
          "output_type": "stream",
          "name": "stderr",
          "text": [
            "\r 37%|███▋      | 11/30 [04:08<07:09, 22.59s/it]"
          ]
        },
        {
          "output_type": "stream",
          "name": "stdout",
          "text": [
            "Epoch 10 : Validation loss 0.07695216479453634\n",
            "Epoch 11 : Training loss 0.07644757544000944\n"
          ]
        },
        {
          "output_type": "stream",
          "name": "stderr",
          "text": [
            "\r 40%|████      | 12/30 [04:31<06:46, 22.56s/it]"
          ]
        },
        {
          "output_type": "stream",
          "name": "stdout",
          "text": [
            "Epoch 11 : Validation loss 0.07598218797369206\n",
            "Epoch 12 : Training loss 0.07553916256626447\n"
          ]
        },
        {
          "output_type": "stream",
          "name": "stderr",
          "text": [
            "\r 43%|████▎     | 13/30 [04:53<06:24, 22.61s/it]"
          ]
        },
        {
          "output_type": "stream",
          "name": "stdout",
          "text": [
            "Epoch 12 : Validation loss 0.07511374992417529\n",
            "Epoch 13 : Training loss 0.07470495583613714\n"
          ]
        },
        {
          "output_type": "stream",
          "name": "stderr",
          "text": [
            "\r 47%|████▋     | 14/30 [05:16<06:00, 22.53s/it]"
          ]
        },
        {
          "output_type": "stream",
          "name": "stdout",
          "text": [
            "Epoch 13 : Validation loss 0.07430341051138462\n",
            "Epoch 14 : Training loss 0.07391668776671091\n"
          ]
        },
        {
          "output_type": "stream",
          "name": "stderr",
          "text": [
            "\r 50%|█████     | 15/30 [05:38<05:35, 22.39s/it]"
          ]
        },
        {
          "output_type": "stream",
          "name": "stdout",
          "text": [
            "Epoch 14 : Validation loss 0.07352889099336685\n",
            "Epoch 15 : Training loss 0.07313840615749359\n"
          ]
        },
        {
          "output_type": "stream",
          "name": "stderr",
          "text": [
            "\r 53%|█████▎    | 16/30 [06:00<05:14, 22.47s/it]"
          ]
        },
        {
          "output_type": "stream",
          "name": "stdout",
          "text": [
            "Epoch 15 : Validation loss 0.07274172732487638\n",
            "Epoch 16 : Training loss 0.0723655107319355\n"
          ]
        },
        {
          "output_type": "stream",
          "name": "stderr",
          "text": [
            "\r 57%|█████▋    | 17/30 [06:23<04:53, 22.55s/it]"
          ]
        },
        {
          "output_type": "stream",
          "name": "stdout",
          "text": [
            "Epoch 16 : Validation loss 0.07198544904748176\n",
            "Epoch 17 : Training loss 0.07160935840010643\n"
          ]
        },
        {
          "output_type": "stream",
          "name": "stderr",
          "text": [
            "\r 60%|██████    | 18/30 [06:45<04:27, 22.29s/it]"
          ]
        },
        {
          "output_type": "stream",
          "name": "stdout",
          "text": [
            "Epoch 17 : Validation loss 0.07123306833524654\n",
            "Epoch 18 : Training loss 0.07084553705652555\n"
          ]
        },
        {
          "output_type": "stream",
          "name": "stderr",
          "text": [
            "\r 63%|██████▎   | 19/30 [07:08<04:06, 22.42s/it]"
          ]
        },
        {
          "output_type": "stream",
          "name": "stdout",
          "text": [
            "Epoch 18 : Validation loss 0.07046293047197322\n",
            "Epoch 19 : Training loss 0.07005638597408931\n"
          ]
        },
        {
          "output_type": "stream",
          "name": "stderr",
          "text": [
            "\r 67%|██████▋   | 20/30 [07:30<03:45, 22.54s/it]"
          ]
        },
        {
          "output_type": "stream",
          "name": "stdout",
          "text": [
            "Epoch 19 : Validation loss 0.06963807713002601\n",
            "Epoch 20 : Training loss 0.0692334212064743\n"
          ]
        },
        {
          "output_type": "stream",
          "name": "stderr",
          "text": [
            "\r 70%|███████   | 21/30 [07:52<03:20, 22.32s/it]"
          ]
        },
        {
          "output_type": "stream",
          "name": "stdout",
          "text": [
            "Epoch 20 : Validation loss 0.06880164879592175\n",
            "Epoch 21 : Training loss 0.06839566801985104\n"
          ]
        },
        {
          "output_type": "stream",
          "name": "stderr",
          "text": [
            "\r 73%|███████▎  | 22/30 [08:15<02:59, 22.39s/it]"
          ]
        },
        {
          "output_type": "stream",
          "name": "stdout",
          "text": [
            "Epoch 21 : Validation loss 0.06797414823891\n",
            "Epoch 22 : Training loss 0.06756893329819043\n"
          ]
        },
        {
          "output_type": "stream",
          "name": "stderr",
          "text": [
            "\r 77%|███████▋  | 23/30 [08:37<02:37, 22.47s/it]"
          ]
        },
        {
          "output_type": "stream",
          "name": "stdout",
          "text": [
            "Epoch 22 : Validation loss 0.06713838391798607\n",
            "Epoch 23 : Training loss 0.06676373825470606\n"
          ]
        },
        {
          "output_type": "stream",
          "name": "stderr",
          "text": [
            "\r 80%|████████  | 24/30 [09:00<02:15, 22.66s/it]"
          ]
        },
        {
          "output_type": "stream",
          "name": "stdout",
          "text": [
            "Epoch 23 : Validation loss 0.06638562120497227\n",
            "Epoch 24 : Training loss 0.06602119516332944\n"
          ]
        },
        {
          "output_type": "stream",
          "name": "stderr",
          "text": [
            "\r 83%|████████▎ | 25/30 [09:23<01:52, 22.53s/it]"
          ]
        },
        {
          "output_type": "stream",
          "name": "stdout",
          "text": [
            "Epoch 24 : Validation loss 0.06565248867140171\n",
            "Epoch 25 : Training loss 0.0653315820991993\n"
          ]
        },
        {
          "output_type": "stream",
          "name": "stderr",
          "text": [
            "\r 87%|████████▋ | 26/30 [09:46<01:30, 22.71s/it]"
          ]
        },
        {
          "output_type": "stream",
          "name": "stdout",
          "text": [
            "Epoch 25 : Validation loss 0.06500476539293502\n",
            "Epoch 26 : Training loss 0.06470512396593889\n"
          ]
        },
        {
          "output_type": "stream",
          "name": "stderr",
          "text": [
            "\r 90%|█████████ | 27/30 [10:09<01:08, 22.86s/it]"
          ]
        },
        {
          "output_type": "stream",
          "name": "stdout",
          "text": [
            "Epoch 26 : Validation loss 0.06438165805996099\n",
            "Epoch 27 : Training loss 0.06412835376461347\n"
          ]
        },
        {
          "output_type": "stream",
          "name": "stderr",
          "text": [
            "\r 93%|█████████▎| 28/30 [10:32<00:45, 22.78s/it]"
          ]
        },
        {
          "output_type": "stream",
          "name": "stdout",
          "text": [
            "Epoch 27 : Validation loss 0.06382703071737543\n",
            "Epoch 28 : Training loss 0.06359862019618352\n"
          ]
        },
        {
          "output_type": "stream",
          "name": "stderr",
          "text": [
            "\r 97%|█████████▋| 29/30 [10:55<00:22, 22.80s/it]"
          ]
        },
        {
          "output_type": "stream",
          "name": "stdout",
          "text": [
            "Epoch 28 : Validation loss 0.06330869810536821\n",
            "Epoch 29 : Training loss 0.0631178236057361\n"
          ]
        },
        {
          "output_type": "stream",
          "name": "stderr",
          "text": [
            "100%|██████████| 30/30 [11:20<00:00, 22.69s/it]"
          ]
        },
        {
          "output_type": "stream",
          "name": "stdout",
          "text": [
            "Epoch 29 : Validation loss 0.06289211567491293\n",
            "Total training time: 680.771 seconds\n",
            "Model saved!\n"
          ]
        },
        {
          "output_type": "stream",
          "name": "stderr",
          "text": [
            "\n"
          ]
        }
      ]
    },
    {
      "cell_type": "code",
      "source": [
        "import torch\n",
        "import matplotlib.pyplot as plt\n",
        "import numpy as np\n",
        "\n",
        "def test_and_visualize(model, test_loader):\n",
        "    model.eval()\n",
        "\n",
        "    # Get some test images\n",
        "    images, _ = next(iter(test_loader))\n",
        "\n",
        "    # Perform the forward pass\n",
        "    with torch.no_grad():\n",
        "        reconstructed_images = model(images.view(images.size(0), -1))\n",
        "\n",
        "    # Calculate the loss\n",
        "    criterion = torch.nn.MSELoss()\n",
        "    loss = criterion(reconstructed_images.view_as(images), images)\n",
        "\n",
        "    # Convert images to NumPy arrays\n",
        "    images_np = images.cpu().numpy().reshape(-1, 28, 28)\n",
        "    reconstructed_np = reconstructed_images.cpu().numpy().reshape(-1, 28, 28)\n",
        "\n",
        "    # Plot the original and reconstructed images\n",
        "    plt.figure(figsize=(10, 4))\n",
        "    for i in range(5):\n",
        "        # Original image\n",
        "        plt.subplot(2, 5, i + 1)\n",
        "        plt.imshow(images_np[i], cmap='gray')\n",
        "        plt.title(\"Original\")\n",
        "        plt.axis('off')\n",
        "\n",
        "        # Reconstructed image\n",
        "        plt.subplot(2, 5, i + 6)\n",
        "        plt.imshow(reconstructed_np[i], cmap='gray')\n",
        "        plt.title(\"Reconstructed\")\n",
        "        plt.axis('off')\n",
        "\n",
        "    plt.show()\n",
        "\n",
        "    return loss.item()\n",
        "\n",
        "# Call the function to test and visualize\n",
        "test_loss = test_and_visualize(autoencoder, test_loader)\n",
        "print(f\"Test Loss: {test_loss}\")\n"
      ],
      "metadata": {
        "colab": {
          "base_uri": "https://localhost:8080/",
          "height": 377
        },
        "id": "xW4b35PJMTMY",
        "outputId": "368a0e92-582a-4620-cb28-9fc97dad44dc"
      },
      "execution_count": null,
      "outputs": [
        {
          "output_type": "display_data",
          "data": {
            "text/plain": [
              "<Figure size 1000x400 with 10 Axes>"
            ],
            "image/png": "[encoded data removed]"
          },
          "metadata": {}
        },
        {
          "output_type": "stream",
          "name": "stdout",
          "text": [
            "Test Loss: 0.058487605303525925\n"
          ]
        }
      ]
    },
    {
      "cell_type": "code",
      "source": [
        "import torch\n",
        "import torch.nn as nn\n",
        "import torch.nn.functional as F\n",
        "from torch.utils.data import DataLoader\n",
        "from torch.utils.data.dataset import TensorDataset\n",
        "from torchvision import transforms\n",
        "import torchvision\n",
        "\n",
        "# Votre classe Decoder\n",
        "class Decoder(nn.Module):\n",
        "    def __init__(self, latent_dims):\n",
        "        super(Decoder, self).__init__()\n",
        "        self.fc1 = nn.Linear(latent_dims, 128)\n",
        "        self.fc2 = nn.Linear(128, 784)\n",
        "\n",
        "    def forward(self, x):\n",
        "        x = F.relu(self.fc1(x))\n",
        "        x = torch.sigmoid(self.fc2(x))\n",
        "        return x\n",
        "\n",
        "# Votre classe VariationalEncoder\n",
        "class VariationalEncoder(nn.Module):\n",
        "    def __init__(self, latent_dims):\n",
        "        super(VariationalEncoder, self).__init__()\n",
        "        self.linear1 = nn.Linear(784, 512)\n",
        "        self.linear2 = nn.Linear(512, latent_dims)\n",
        "        self.linear3 = nn.Linear(512, latent_dims)\n",
        "\n",
        "        self.N = torch.distributions.Normal(0, 1)\n",
        "        self.N.loc = self.N.loc.cuda() if torch.cuda.is_available() else self.N.loc\n",
        "        self.N.scale = self.N.scale.cuda() if torch.cuda.is_available() else self.N.scale\n",
        "        self.kl = 0\n",
        "\n",
        "    def forward(self, x):\n",
        "        x = torch.flatten(x, start_dim=1)\n",
        "        x = F.relu(self.linear1(x))\n",
        "        mu = self.linear2(x)\n",
        "        sigma = torch.exp(self.linear3(x))\n",
        "        z = mu + sigma * self.N.sample(mu.shape)\n",
        "        self.kl = (sigma**2 + mu**2 - torch.log(sigma) - 1/2).sum()\n",
        "        return z\n",
        "\n",
        "# Classe VariationalAutoencoder complète\n",
        "class VariationalAutoencoder(nn.Module):\n",
        "    def __init__(self, latent_dims):\n",
        "        super(VariationalAutoencoder, self).__init__()\n",
        "        self.encoder = VariationalEncoder(latent_dims)\n",
        "        self.decoder = Decoder(latent_dims)\n",
        "\n",
        "    def forward(self, x):\n",
        "        z = self.encoder(x)\n",
        "        return self.decoder(z)\n",
        "\n",
        "# Fonction d'entraînement\n",
        "def train(autoencoder, data, epochs=20, device='cuda' if torch.cuda.is_available() else 'cpu'):\n",
        "    opt = torch.optim.Adam(autoencoder.parameters())\n",
        "    autoencoder.to(device)\n",
        "\n",
        "    for epoch in range(epochs):\n",
        "        for x, y in data:\n",
        "            x = x.to(device)\n",
        "            x = x.view(x.size(0), -1)  # Redimensionner les images\n",
        "            opt.zero_grad()\n",
        "            x_hat = autoencoder(x)\n",
        "            loss = ((x - x_hat)**2).sum() + autoencoder.encoder.kl\n",
        "            loss.backward()\n",
        "            opt.step()\n",
        "\n",
        "    return autoencoder\n",
        "\n",
        "# Fonction pour charger les données MNIST\n",
        "def load_mnist_data(train=True):\n",
        "    transform = transforms.Compose([transforms.ToTensor()])\n",
        "    mnist_dataset = torchvision.datasets.MNIST(root='./data', train=train, download=True, transform=transform)\n",
        "    return torch.utils.data.DataLoader(dataset=mnist_dataset, batch_size=64, shuffle=True)\n",
        "\n",
        "# Charger l'ensemble d'entraînement\n",
        "train_loader = load_mnist_data(train=True)\n",
        "\n",
        "# Redimensionner les images\n",
        "def resize_images(images):\n",
        "    return images.view(images.size(0), -1)\n",
        "\n",
        "# Appliquer le redimensionnement aux données d'entraînement\n",
        "train_loader.dataset.data = resize_images(train_loader.dataset.data)\n",
        "\n",
        "# Initialiser et entraîner l'autoencodeur\n",
        "latent_dimensions = 2\n",
        "autoencoderV = VariationalAutoencoder(latent_dimensions)\n",
        "autoencoderV = train(autoencoderV, train_loader, epochs=20)\n"
      ],
      "metadata": {
        "id": "JcJZaXNLaihB"
      },
      "execution_count": null,
      "outputs": []
    },
    {
      "cell_type": "code",
      "source": [
        "def test_and_visualize(model, test_loader):\n",
        "    model.eval()\n",
        "\n",
        "    # Obtenir quelques images de test\n",
        "    images, _ = next(iter(test_loader))\n",
        "\n",
        "    # Effectuer la passe avant\n",
        "    with torch.no_grad():\n",
        "        reconstructed_images = model(images.view(images.size(0), -1))\n",
        "\n",
        "    # Calculer la perte\n",
        "    criterion = torch.nn.MSELoss()\n",
        "    loss = criterion(reconstructed_images.view_as(images), images)\n",
        "\n",
        "    # Convertir les images en tableaux NumPy\n",
        "    images_np = images.cpu().numpy().reshape(-1, 28, 28)\n",
        "    reconstructed_np = reconstructed_images.cpu().numpy().reshape(-1, 28, 28)\n",
        "\n",
        "    # Tracer les images originales et reconstruites\n",
        "    plt.figure(figsize=(10, 4))\n",
        "    for i in range(5):\n",
        "        # Image originale\n",
        "        plt.subplot(2, 5, i + 1)\n",
        "        plt.imshow(images_np[i], cmap='gray')\n",
        "        plt.title(\"Original\")\n",
        "        plt.axis('off')\n",
        "\n",
        "        # Image reconstruite\n",
        "        plt.subplot(2, 5, i + 6)\n",
        "        plt.imshow(reconstructed_np[i], cmap='gray')\n",
        "        plt.title(\"Reconstructed\")\n",
        "        plt.axis('off')\n",
        "\n",
        "    plt.show()\n",
        "\n",
        "    print(f\"Test Loss: {loss.item()}\")\n",
        "\n",
        "# Utiliser la fonction de test et de visualisation\n",
        "test_and_visualize(autoencoder, test_loader)\n"
      ],
      "metadata": {
        "colab": {
          "base_uri": "https://localhost:8080/",
          "height": 377
        },
        "id": "hFy8iMRheLSR",
        "outputId": "e69d4d12-2f1a-4f25-8a94-dfe3f91c4a73"
      },
      "execution_count": null,
      "outputs": [
        {
          "output_type": "display_data",
          "data": {
            "text/plain": [
              "<Figure size 1000x400 with 10 Axes>"
            ],
            "image/png": "[encoded data removed]"
          },
          "metadata": {}
        },
        {
          "output_type": "stream",
          "name": "stdout",
          "text": [
            "Test Loss: 0.058487605303525925\n"
          ]
        }
      ]
    },
    {
      "cell_type": "code",
      "source": [
        "def visualize_latent_space_simple_autoencoder(model, data_loader, device='cuda' if torch.cuda.is_available() else 'cpu'):\n",
        "    model.eval()\n",
        "    data_iterator = iter(data_loader)\n",
        "\n",
        "    # Get the entire dataset\n",
        "    images, labels = next(data_iterator)\n",
        "    images = images.to(device)\n",
        "\n",
        "    # Encode the images to obtain the latent space representation\n",
        "    with torch.no_grad():\n",
        "        latent_space = model.encoder_cnn(images.view(images.size(0), 1, 28, 28)).cpu().numpy()\n",
        "\n",
        "    # Plot the latent space\n",
        "    plt.figure(figsize=(8, 6))\n",
        "    scatter = plt.scatter(latent_space[:, 0], latent_space[:, 1], c=labels.numpy(), cmap='viridis')\n",
        "    plt.colorbar(scatter, label='Digit Label')\n",
        "    plt.title('Latent Space Visualization (Simple Autoencoder)')\n",
        "    plt.xlabel('Latent Dimension 1')\n",
        "    plt.ylabel('Latent Dimension 2')\n",
        "    plt.show()\n",
        "\n",
        "# Visualize the latent space for the simple autoencoder\n",
        "visualize_latent_space_simple_autoencoder(autoencoder, train_loader)\n"
      ],
      "metadata": {
        "colab": {
          "base_uri": "https://localhost:8080/",
          "height": 564
        },
        "id": "QGwmMIjne5_v",
        "outputId": "4d42724f-92b8-459c-e327-34f8069ed29d"
      },
      "execution_count": null,
      "outputs": [
        {
          "output_type": "display_data",
          "data": {
            "text/plain": [
              "<Figure size 800x600 with 2 Axes>"
            ],
            "image/png": "[encoded data removed]"
          },
          "metadata": {}
        }
      ]
    },
    {
      "cell_type": "code",
      "source": [
        "def visualize_latent_space_variational_autoencoder(model, data_loader, device='cuda' if torch.cuda.is_available() else 'cpu'):\n",
        "    model.eval()\n",
        "    data_iterator = iter(data_loader)\n",
        "\n",
        "    # Get the entire dataset\n",
        "    images, labels = next(data_iterator)\n",
        "    images = images.to(device)\n",
        "\n",
        "    # Encode the images to obtain the latent space representation\n",
        "    with torch.no_grad():\n",
        "        latent_space = model.encoder(images.view(images.size(0), 1, 28, 28)).cpu().numpy()\n",
        "\n",
        "    # Plot the latent space\n",
        "    plt.figure(figsize=(8, 6))\n",
        "    scatter = plt.scatter(latent_space[:, 0], latent_space[:, 1], c=labels.numpy(), cmap='viridis')\n",
        "    plt.colorbar(scatter, label='Digit Label')\n",
        "    plt.title('Latent Space Visualization (Variational Autoencoder)')\n",
        "    plt.xlabel('Latent Dimension 1')\n",
        "    plt.ylabel('Latent Dimension 2')\n",
        "    plt.show()\n",
        "\n",
        "# Visualize the latent space for the variational autoencoder\n",
        "visualize_latent_space_variational_autoencoder(autoencoderV, train_loader)\n"
      ],
      "metadata": {
        "colab": {
          "base_uri": "https://localhost:8080/",
          "height": 564
        },
        "id": "B5uijmmWcLXl",
        "outputId": "97d0dc73-0d5d-4eec-e74b-36cb21a2c26e"
      },
      "execution_count": null,
      "outputs": [
        {
          "output_type": "display_data",
          "data": {
            "text/plain": [
              "<Figure size 800x600 with 2 Axes>"
            ],
            "image/png": "[encoded data removed]"
          },
          "metadata": {}
        }
      ]
    }
  ]
}